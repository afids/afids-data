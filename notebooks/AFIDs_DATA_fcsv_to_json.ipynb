{
  "nbformat": 4,
  "nbformat_minor": 0,
  "metadata": {
    "colab": {
      "name": "AFIDs-DATA | *fcsv to *json.ipynb",
      "provenance": []
    },
    "kernelspec": {
      "name": "python3",
      "display_name": "Python 3"
    },
    "language_info": {
      "name": "python"
    }
  },
  "cells": [
    {
      "cell_type": "markdown",
      "source": [
        "# 3DSlicer .fcsv to coordinate.json file format\n",
        "### At this current time, there is no organization system proposed by the Brain Imaging Data Structure (BIDS) community for how to organize anatomical fiducials or landmarks that are not associated with magnetoencephalography (MEG), electroencephalography (EEG), and intracranial electroencephalography (iEEG). Anatomical fiducials can have a variety of uses like the ones we highlight in the anatomical fiducial (AFID) placement protocol but also other general applications like annotating lesions or artifacts and centroids of structures. In this code, we use inspiration from the Brain Imaging Data Structure v1.7.0 (Appendix VIII: Coordinate systems) and create a way to communicate our coordiante data. \n"
      ],
      "metadata": {
        "id": "5YVzFhDgDXi4"
      }
    },
    {
      "cell_type": "code",
      "execution_count": null,
      "metadata": {
        "colab": {
          "base_uri": "https://localhost:8080/"
        },
        "id": "fbdcka8KDSOf",
        "outputId": "3c54c80e-db5c-48fe-b97b-aa78e293e500"
      },
      "outputs": [
        {
          "output_type": "stream",
          "name": "stdout",
          "text": [
            "Mounted at /content/drive\n"
          ]
        }
      ],
      "source": [
        "import os\n",
        "import pandas as pd\n",
        "import json\n",
        "from glob import glob\n",
        "from google.colab import drive\n",
        "drive.mount('/content/drive')"
      ]
    },
    {
      "cell_type": "code",
      "source": [
        "!git clone https://github.com/ataha24/afids-data"
      ],
      "metadata": {
        "colab": {
          "base_uri": "https://localhost:8080/"
        },
        "id": "GN-4tvauzhmO",
        "outputId": "5de5d86a-0c4f-4001-cad7-84d78e8ee51e"
      },
      "execution_count": null,
      "outputs": [
        {
          "output_type": "stream",
          "name": "stdout",
          "text": [
            "Cloning into 'afids-data'...\n",
            "remote: Enumerating objects: 1138, done.\u001b[K\n",
            "remote: Counting objects: 100% (10/10), done.\u001b[K\n",
            "remote: Compressing objects: 100% (10/10), done.\u001b[K\n",
            "remote: Total 1138 (delta 0), reused 7 (delta 0), pack-reused 1128\u001b[K\n",
            "Receiving objects: 100% (1138/1138), 172.51 MiB | 21.33 MiB/s, done.\n",
            "Resolving deltas: 100% (866/866), done.\n"
          ]
        }
      ]
    },
    {
      "cell_type": "code",
      "source": [
        "# path to the bids folder\n",
        "fcsv_files = sorted(glob('afids-data/data/templates/PD-25/*.fcsv')) #path to rater placements \n",
        "\n",
        "for file in fcsv_files:\n",
        "  fid_data = pd.read_csv(file, skiprows=3, header=None)\n",
        "  fid_data.rename(columns={0: 'node_id', 1: 'x', 2: 'y', 3: 'z', 4: 'ow', 5: 'ox',\n",
        "                                     6: 'oy', 7: 'oz', 8: 'vis', 9: 'sel', 10: 'lock',\n",
        "                                     11: 'label', 12: 'description', 13: 'associatedNodeID'}, inplace=True)\n",
        "  afid_desc = {}\n",
        "  for ifid in fid_data['description']:\n",
        "      afid_desc[ifid] = fid_data[fid_data['description'] == ifid][['x', 'y', 'z']].values[0].tolist()\n",
        "      #IntendedFor has to be changed to represent the markups or MRI file for which the .json coordinates file is for \n",
        "      afid_dict = {\"IntendedFor\": f\"anat/*_space-T1w_desc-groundtruth_afids.fcsv\" , \"FiducialsCoordinateSystem\": \"RAS\",\n",
        "                                 \"FiducialsCoordinateUnits\": \"mm\",\n",
        "                                 \"FiducialsCoordinateSystemDescription\": \"RAS orientation: Origin halfway between LPA and RPA, positive x-axis towards RPA, positive y-axis orthogonal to x-axis through Nasion,  z-axis orthogonal to xy-plane, pointing in superior direction.\",\n",
        "                                 \"FiducialsCoordinates\": afid_desc}\n",
        "\n",
        "      json_output = json.dumps(afid_dict, indent=4)\n",
        "      with open(f\"{file[0:-5]}_coordsystem.json\", 'w') as fid:\n",
        "                        fid.write(json_output)\n",
        "                        fid.write('\\n')"
      ],
      "metadata": {
        "id": "FffXOB04Dv3j"
      },
      "execution_count": null,
      "outputs": []
    }
  ]
}
